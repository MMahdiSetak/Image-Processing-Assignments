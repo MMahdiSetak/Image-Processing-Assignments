{
 "cells": [
  {
   "cell_type": "markdown",
   "id": "878ff1c1-aecd-4fa3-95a4-3c433c26296e",
   "metadata": {},
   "source": [
    "# تمرین ۲ . تبدیل فوریه گسسته"
   ]
  },
  {
   "cell_type": "markdown",
   "id": "fbb0c272-af55-4107-ba55-35d5e58b1dcf",
   "metadata": {},
   "source": [
    "حل قسمت های آ و ب در پی دی اف کنار این فایل نیز موجود می باشد"
   ]
  },
  {
   "cell_type": "markdown",
   "id": "a8e12283-8783-4351-9189-cb6d534221dc",
   "metadata": {},
   "source": [
    "### Import Liberaries"
   ]
  },
  {
   "cell_type": "code",
   "execution_count": 1,
   "id": "f2b56306-986c-46a1-86f9-9c9234d8c514",
   "metadata": {},
   "outputs": [],
   "source": [
    "import numpy as np"
   ]
  },
  {
   "cell_type": "markdown",
   "id": "505d221c-2338-4aa7-9bcb-5e2fa09c9427",
   "metadata": {},
   "source": [
    "### Create Transform Matrix with n=4"
   ]
  },
  {
   "cell_type": "code",
   "execution_count": 2,
   "id": "e7aee6ea-7e8a-437e-a620-3534589ffa17",
   "metadata": {},
   "outputs": [],
   "source": [
    "n = 4\n",
    "T = np.array([[np.exp(-2j * np.pi * i * j / n) for j in range(n)] for i in range(n)])/n"
   ]
  },
  {
   "cell_type": "markdown",
   "id": "02ec2a93-1c23-49d5-9929-241898690743",
   "metadata": {},
   "source": [
    "### Calculate Part A"
   ]
  },
  {
   "cell_type": "code",
   "execution_count": 3,
   "id": "e0b202e8-5137-42b6-af92-e59a68eadbeb",
   "metadata": {},
   "outputs": [
    {
     "name": "stdout",
     "output_type": "stream",
     "text": [
      "[0.5+0.j 0. -0.j 0.5+0.j 0. -0.j]\n"
     ]
    }
   ],
   "source": [
    "a = np.array([1, 0, 1, 0])\n",
    "print(np.round(a.dot(T), 5))"
   ]
  },
  {
   "cell_type": "markdown",
   "id": "67441dbe-5efa-4603-a87b-79138f1ec7f2",
   "metadata": {},
   "source": [
    "### Calculate Part B"
   ]
  },
  {
   "cell_type": "code",
   "execution_count": 4,
   "id": "b0ea6f0c-7418-4493-8632-8b74ed24c011",
   "metadata": {},
   "outputs": [
    {
     "name": "stdout",
     "output_type": "stream",
     "text": [
      "[0. +0.25j 0.5+0.25j 1. +0.25j 0.5-0.75j]\n"
     ]
    }
   ],
   "source": [
    "b = np.array([2, -2, 1j, 0])\n",
    "print(np.round(b.dot(T), 5))"
   ]
  },
  {
   "cell_type": "markdown",
   "id": "bad3ab75-5254-494c-ba4b-36fe659bc277",
   "metadata": {},
   "source": [
    "### Create Transform Matrix with n=5"
   ]
  },
  {
   "cell_type": "code",
   "execution_count": 5,
   "id": "a199b7e5-c9ee-4022-834a-57c72042952a",
   "metadata": {},
   "outputs": [],
   "source": [
    "n = 5\n",
    "T = np.array([[np.exp(-2j * np.pi * i * j / n) for j in range(n)] for i in range(n)])/n"
   ]
  },
  {
   "cell_type": "markdown",
   "id": "129a7c45-116a-4b4b-a419-d7bf470800f4",
   "metadata": {},
   "source": [
    "### Calculate Part C"
   ]
  },
  {
   "cell_type": "code",
   "execution_count": 6,
   "id": "7731a8d0-62ed-4e8f-98e7-e17d2d7cfe58",
   "metadata": {},
   "outputs": [
    {
     "name": "stdout",
     "output_type": "stream",
     "text": [
      "[ 1.+0.j -0.+0.j -0.-0.j  0.-0.j  0.-0.j]\n"
     ]
    }
   ],
   "source": [
    "p = np.array([1, 1, 1, 1, 1])\n",
    "print(np.round(p.dot(T), 5))"
   ]
  },
  {
   "cell_type": "markdown",
   "id": "280b74cc-da35-4e59-b406-46314c26b2d7",
   "metadata": {},
   "source": [
    "### Calculate Part D"
   ]
  },
  {
   "cell_type": "code",
   "execution_count": 7,
   "id": "41409ba7-0ea8-493b-a932-85ab3b7f434e",
   "metadata": {},
   "outputs": [
    {
     "name": "stdout",
     "output_type": "stream",
     "text": [
      "[0.+1.j 0.-0.j 0.-0.j 0.+0.j 0.+0.j]\n"
     ]
    }
   ],
   "source": [
    "t = np.array([1j, 1j, 1j, 1j, 1j])\n",
    "print(np.round(t.dot(T), 5))"
   ]
  }
 ],
 "metadata": {
  "kernelspec": {
   "display_name": "Python 3",
   "language": "python",
   "name": "python3"
  },
  "language_info": {
   "codemirror_mode": {
    "name": "ipython",
    "version": 3
   },
   "file_extension": ".py",
   "mimetype": "text/x-python",
   "name": "python",
   "nbconvert_exporter": "python",
   "pygments_lexer": "ipython3",
   "version": "3.8.2"
  }
 },
 "nbformat": 4,
 "nbformat_minor": 5
}
