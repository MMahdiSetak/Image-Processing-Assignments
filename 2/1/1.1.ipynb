{
 "cells": [
  {
   "cell_type": "markdown",
   "id": "b3c0698b-02ce-46e3-9d46-e5d999430ddf",
   "metadata": {},
   "source": [
    "# تمرین ۱ .تصاویر پایه DFT\n",
    "## بخش آ"
   ]
  },
  {
   "cell_type": "markdown",
   "id": "57c8ee4b-b809-4bc9-871a-8db246d5b75e",
   "metadata": {},
   "source": [
    "### Import Liberaries"
   ]
  },
  {
   "cell_type": "code",
   "execution_count": 1,
   "id": "1df6d65a-4bc4-4e4d-a62f-ac570dbd9617",
   "metadata": {},
   "outputs": [],
   "source": [
    "import numpy as np\n",
    "from matplotlib import pyplot as plt"
   ]
  },
  {
   "cell_type": "markdown",
   "id": "64c4f847-0d14-4ca1-9ee1-431388d11a5c",
   "metadata": {},
   "source": [
    "### Calculate Base Pictures"
   ]
  },
  {
   "cell_type": "code",
   "execution_count": 2,
   "id": "903ab6cd-bb82-4bc3-a6c5-f02c8674d869",
   "metadata": {},
   "outputs": [],
   "source": [
    "n = 8\n",
    "base_pic = np.array(\n",
    "    [[[[np.exp(-2j * np.pi * (i * u + j * v) / n) for j in range(n)] for i in range(n)] for v in range(n)]\n",
    "     for u in range(n)])"
   ]
  },
  {
   "cell_type": "markdown",
   "id": "4614b640-6a40-41e4-8bcd-0aaa15bd8b7d",
   "metadata": {},
   "source": [
    "تنها نکته قابل توجه در این مسئله فرمول تصاویر پایه برای تبدیل فوریه است که در کد کاملا مشخص و واضح ذکر شده\n",
    "می دانیم که برای تبدیل یک تصویر، به یک ماتریس  با ابعاد تصویر نیاز داریم که هر عنصر این ماتریس نیز یک ماتریس به اندازه تصویر اولیه است که این عناصر، تصاویر پایه نامیده می شوند.\n",
    "پس کافیس یک ماتریس ۴ بعدی تعریف کنیم و مطابق فرمول درایه های آن را محاسبه کنیم"
   ]
  },
  {
   "cell_type": "markdown",
   "id": "9bbdbbfe-cffb-4842-8318-a68beb342758",
   "metadata": {},
   "source": [
    "### Showing Real part"
   ]
  },
  {
   "cell_type": "code",
   "execution_count": 3,
   "id": "4635283c-446e-43b1-9d1f-030863783daf",
   "metadata": {},
   "outputs": [
    {
     "data": {
      "image/png": "[encoded data removed]",
      "text/plain": [
       "<Figure size 576x576 with 64 Axes>"
      ]
     },
     "metadata": {
      "needs_background": "light"
     },
     "output_type": "display_data"
    }
   ],
   "source": [
    "_, subplt = plt.subplots(n, n, figsize=(n, n))\n",
    "for u in range(n):\n",
    "    for v in range(n):\n",
    "        subplt[u][v].imshow(base_pic[u][v].real, vmin=-1, vmax=1, cmap='gray')\n",
    "        subplt[u][v].set_axis_off()\n",
    "plt.show()"
   ]
  },
  {
   "cell_type": "markdown",
   "id": "531648dc-321f-4268-b4e9-74f4ada5824c",
   "metadata": {},
   "source": [
    "### Showing Imaginary part"
   ]
  },
  {
   "cell_type": "code",
   "execution_count": 4,
   "id": "2c633151-13c3-4baf-8af2-38da8e8078d7",
   "metadata": {},
   "outputs": [
    {
     "data": {
      "image/png": "[encoded data removed]",
      "text/plain": [
       "<Figure size 576x576 with 64 Axes>"
      ]
     },
     "metadata": {
      "needs_background": "light"
     },
     "output_type": "display_data"
    }
   ],
   "source": [
    "_, subplt = plt.subplots(n, n, figsize=(n, n))\n",
    "for u in range(n):\n",
    "    for v in range(n):\n",
    "        subplt[u][v].imshow(base_pic[u][v].imag, vmin=-1, vmax=1, cmap='gray')\n",
    "        subplt[u][v].set_axis_off()\n",
    "plt.show()"
   ]
  },
  {
   "cell_type": "markdown",
   "id": "26d9915a-1e28-4737-a68c-42a2955e04f6",
   "metadata": {},
   "source": [
    "نکته دیگر درمورد نمایش تصاویر نحوه برخورد با مقادیر منفی بود\n",
    "یک روش نمایش قدر مطلق تصویر بود که باعث می شد تفاوتی بین دو مقدار مساوی منفی و مثبت دیده نشود اما در نمایش های بالا بازه تصویر -۱ تا ۱ در نظر گرفته شده و موجب می شود عدد -۱ سیاه و ۱ سفید باشد و مقادیر ۰ به رنگ خاکستری دیده شوند"
   ]
  }
 ],
 "metadata": {
  "kernelspec": {
   "display_name": "Python 3",
   "language": "python",
   "name": "python3"
  },
  "language_info": {
   "codemirror_mode": {
    "name": "ipython",
    "version": 3
   },
   "file_extension": ".py",
   "mimetype": "text/x-python",
   "name": "python",
   "nbconvert_exporter": "python",
   "pygments_lexer": "ipython3",
   "version": "3.8.2"
  }
 },
 "nbformat": 4,
 "nbformat_minor": 5
}
