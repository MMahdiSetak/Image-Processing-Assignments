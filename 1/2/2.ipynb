{
 "cells": [
  {
   "cell_type": "markdown",
   "id": "489662e3-f0a5-4609-81c7-1c68b2435e6b",
   "metadata": {},
   "source": [
    "# تمرین ۲ جست و جوی تصویر با استفاده از هیستوگرام\n",
    "الگوریتمی توسعه دهید بوسیله آن بتوان قطعه تصویری را در تصویر دیگر جستجو نمود. برای این موضوع لازم است هیستوگرام را\n",
    "برای قطعه تصویر محاسبه نماید. سپس پنجره ای را در تصویر هدف انتقال داده و در هر انتقال قطعه ای از تصویر را جدا و هیستوگرام\n",
    "آن را محاسبه نماید. هیستوگرام قطعه تصویر را با قطعه جستجو شده مقایسه نماید. سپس قطعه ای از تصویر را انتخاب نماید که\n",
    "بیشترین شباهت را به هیستوگرام قطعه جستجو شده را داشته باشد."
   ]
  },
  {
   "cell_type": "markdown",
   "id": "bd000188-9469-4e8c-a63f-cb1ff4e4b09e",
   "metadata": {},
   "source": [
    "### Importing libraries"
   ]
  },
  {
   "cell_type": "code",
   "execution_count": 1,
   "id": "e96aa1a5-d94b-4f62-8163-585394601c61",
   "metadata": {},
   "outputs": [],
   "source": [
    "import cv2\n",
    "import numpy as np\n",
    "import matplotlib.pyplot as plt"
   ]
  },
  {
   "cell_type": "markdown",
   "id": "8f1fb26b-5602-4893-86c3-a9b8fc2179ca",
   "metadata": {},
   "source": [
    "## Compare given histogram with the given image function"
   ]
  },
  {
   "cell_type": "code",
   "execution_count": 2,
   "id": "16887217-1f3e-4d4b-8e0c-f3b74922997d",
   "metadata": {},
   "outputs": [],
   "source": [
    "def hist_comparator(hist, image):\n",
    "    image_hist = cv2.calcHist([image], [0], None, [256], [0, 255])\n",
    "    return np.abs(hist - image_hist).sum() / (image.shape[0] * image.shape[1])"
   ]
  },
  {
   "cell_type": "markdown",
   "id": "58732343-5c66-4ca9-a281-f2ab871c59d8",
   "metadata": {},
   "source": [
    "در این تابع  ابتدا هیستوگرام تصویر داده شده محاسبه می شود و سپس اختلاف آن با هیستوگرام داده شده سنجیده می شود و عددی به عنوان میزان اختلاف بازگردانده می شود\n",
    "الگوریتم به کار رفته برای انجام این مقایسه به این صورت عمل می کند که نظیر به نظیر دو هیستوگرام را تطبیق داده و قدر مطلق اختلاف عدد های آن ها محاسبه می شود و در نهایت این مقدادیر با هم جمع می شوند\n",
    "بدیهیست هرچقد مقدار خروجی بالا تر باشد نشان دهنده بیشتر بود اختلاف بین دو تصویر است\n",
    "هر چند صفر بودن این مقدار به معنای یکی بودن هیستوگرام ها می باشد و امکان دارد دو تصویر متفاوت اما با هیستوگرام های یکسان داشته باشیم اما این روش همچنان برای مقایسه روش نسبتا خوبی قلمداد می شود.\n",
    "عدد نهایی بر سایز تصویر تقسیم شده تا خروجی مستقل از ابعاد تصویر، بین صفر تا یک باشد"
   ]
  },
  {
   "cell_type": "markdown",
   "id": "99d41df4-72c3-473b-9831-261a3b6005e7",
   "metadata": {},
   "source": [
    "## Searching target image inside the source image function"
   ]
  },
  {
   "cell_type": "code",
   "execution_count": 3,
   "id": "96794358-ff3c-4524-a362-92585da4f261",
   "metadata": {},
   "outputs": [],
   "source": [
    "def search_in_image(source, target, step):\n",
    "    height = range(0, source.shape[0] - target.shape[0], step)\n",
    "    width = range(0, source.shape[1] - target.shape[1], step)\n",
    "    target_hist = cv2.calcHist([target], [0], None, [256], [0, 255])\n",
    "    mini = -1\n",
    "    ans = (-1, -1)\n",
    "    for i in height:\n",
    "        for j in width:\n",
    "            cropped_image = np.array(source)[i:i + target.shape[0], j:j + target.shape[1], :]\n",
    "            temp_res = hist_comparator(target_hist, cropped_image)\n",
    "            if temp_res < mini or mini == -1:\n",
    "                mini = temp_res\n",
    "                ans = (i, j)\n",
    "    return np.array(source)[ans[0]:ans[0] + target.shape[0], ans[1]:ans[1] + target.shape[1], :]"
   ]
  },
  {
   "cell_type": "markdown",
   "id": "cd7518b0-5d1d-4eb8-a12f-6b20ea69137d",
   "metadata": {},
   "source": [
    "در این تابع به کمک تابع مقایسه هیستوگرام ها عمل پیدا کردن قطعه تصویر مورد نظر بر روی کل تصویر پیاده سازی شده است. به وسیله دو حلقه در هر مرحله تصویری به اندازه تصویر هدف از تصویر اصلی جدا شده و عمل مقایسه صورت میگیرد در صورتی که عدد به دست امده از مقادیر قبلی کمتر باشد(تصویر شباهت بیشتری داشته باشد) به عنوان تصویر انتخابی فعلی ذخیره می شود در نهایت تصویر انتخابی به عنوان خروجی تابع بازگردانده می شود. برای تسریع در اجرای کد متغییری تحت عنوان قدم در نظر گرفته شده که اندازه دریچه در هر مرحله از اجرای حلقه به تعداد قدم پیکسل جابجا شود. "
   ]
  },
  {
   "cell_type": "markdown",
   "id": "80a6fd26-231a-4e9c-bd95-7a86da93a0a1",
   "metadata": {},
   "source": [
    "### Reading the original image and the target image"
   ]
  },
  {
   "cell_type": "code",
   "execution_count": 4,
   "id": "f7dbeea4-eaff-4b20-9f53-233960d74a9d",
   "metadata": {},
   "outputs": [],
   "source": [
    "source_image = cv2.imread(\"messi5.jpg\", cv2.IMREAD_UNCHANGED)\n",
    "target_image = cv2.imread(\"ball.png\", cv2.IMREAD_UNCHANGED)"
   ]
  },
  {
   "cell_type": "markdown",
   "id": "9c23dc31-4657-467b-a72a-67826b29f658",
   "metadata": {},
   "source": [
    "### Applying the algorithm and showing the result"
   ]
  },
  {
   "cell_type": "code",
   "execution_count": 5,
   "id": "cbe685ae-2ec5-457e-bd59-66a821d5a0ca",
   "metadata": {},
   "outputs": [
    {
     "data": {
      "image/png": "[encoded data removed]",
      "text/plain": [
       "<Figure size 432x288 with 1 Axes>"
      ]
     },
     "metadata": {
      "needs_background": "light"
     },
     "output_type": "display_data"
    }
   ],
   "source": [
    "detected_image = search_in_image(source_image, target_image, 1)\n",
    "plt.imshow(detected_image)\n",
    "plt.show()"
   ]
  },
  {
   "cell_type": "markdown",
   "id": "23b69d23-d904-440a-931b-b84b4ffaf382",
   "metadata": {},
   "source": [
    "## نتیجه گیری\n",
    "مقایسه هیستوگرام ها برای تشخیص شباهت دو تصویر روشی به نسبت مناسب و دارای سرعت قابل قبول است. روش های دیگر برای مقایسه دو هیستوگرام در این لینک قابل مطالعه هستند\n",
    "https://docs.opencv.org/3.4/d8/dc8/tutorial_histogram_comparison.html\n"
   ]
  },
  {
   "cell_type": "markdown",
   "id": "c7f8a09a-113c-4def-9bab-1fdc540d0405",
   "metadata": {},
   "source": [
    "## تجربیات و مشکلات\n",
    "در ابتدا سعی شد توابع اعمال ریاضی بر روی ارایه هیستوگرام تماما پیاده سازی شود و اینکار نیز صورت گرفت اما سرعت اجرا به شدت تحت تاثیر این امر قرار گرفت به نحوی که با قدم ۵ نیاز به زمانی در حد چند ثانیه وجود داشت اما با استفاده از توابع کتابخانه نام پای کلیه اعمال ماتریسی با سرعت بالاتری اجرا می شوند و نسبت به انجام این عملیات ها با حلقه فور از عمکرد بهتری برخوردار هستند. به همین دلیل در ادامه نیز سعی شده برای اعمال عملیات های ماتریسی از توابع این کتابخانه بهره گرفته شود"
   ]
  }
 ],
 "metadata": {
  "kernelspec": {
   "display_name": "Python 3",
   "language": "python",
   "name": "python3"
  },
  "language_info": {
   "codemirror_mode": {
    "name": "ipython",
    "version": 3
   },
   "file_extension": ".py",
   "mimetype": "text/x-python",
   "name": "python",
   "nbconvert_exporter": "python",
   "pygments_lexer": "ipython3",
   "version": "3.8.2"
  }
 },
 "nbformat": 4,
 "nbformat_minor": 5
}
